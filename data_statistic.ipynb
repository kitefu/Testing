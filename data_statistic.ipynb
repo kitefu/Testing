{
 "cells": [
  {
   "cell_type": "code",
   "execution_count": 2,
   "metadata": {
    "collapsed": true
   },
   "outputs": [],
   "source": [
    "import numpy as np\n",
    "import pandas as pd"
   ]
  },
  {
   "cell_type": "markdown",
   "metadata": {},
   "source": [
    "## construct a test dataframe"
   ]
  },
  {
   "cell_type": "markdown",
   "metadata": {},
   "source": [
    "这里构造一个测试数据， T1~T7的列代表某个时间下的产品销售量\n",
    "product_type列代表产品所属的类型，预设4个类型；\n",
    "product_name代表产品名"
   ]
  },
  {
   "cell_type": "code",
   "execution_count": 4,
   "metadata": {
    "collapsed": false
   },
   "outputs": [],
   "source": [
    "data_rang = 9\n",
    "pr_type = ['a', 'b', 'c', 'd']\n",
    "p_type = [ np.random.choice(pr_type) for i in range(data_rang) ]\n",
    "data = {'product_name' : ['x0', 'x1', 'x3', 'x2', 'x4', 'x5', 'x6', 'x7', 'x8'],\n",
    "       'T1': np.random.randint(100, size = [data_rang]),\n",
    "       'T2': np.random.randint(100, size = [data_rang]),\n",
    "       'T3': np.random.randint(100, size = [data_rang]),\n",
    "       'T4': np.random.randint(100, size = [data_rang]),\n",
    "       'T5': np.random.randint(100, size = [data_rang]),\n",
    "       'T6': np.random.randint(100, size = [data_rang]),\n",
    "       'T7': np.random.randint(100, size = [data_rang]),\n",
    "       'product_type': p_type}\n",
    "\n",
    "test_data = pd.DataFrame(data, columns = ['product_name', 'T1', 'T2', 'T3', 'T4', 'T5', 'T6', 'T7', 'product_type'])"
   ]
  },
  {
   "cell_type": "code",
   "execution_count": 5,
   "metadata": {
    "collapsed": false
   },
   "outputs": [
    {
     "name": "stdout",
     "output_type": "stream",
     "text": [
      "  product_name  T1  T2  T3  T4  T5  T6  T7 product_type\n",
      "0           x0  40   1  64   3  64  85  28            b\n",
      "1           x1  94  19  75  85  22   5  96            b\n",
      "2           x3  65  83  10  32  72  73   2            b\n",
      "3           x2  71  62  85  84  94  11   5            d\n",
      "4           x4  45  20  85  88  38  25   1            a\n",
      "5           x5  92  66   9   7  53  91   7            b\n",
      "6           x6  15  43   2  59   7  52   7            a\n",
      "7           x7  98  12  66  92   2  46  70            a\n",
      "8           x8  57   7  75  42  92   6  86            a\n"
     ]
    }
   ],
   "source": [
    "print test_data"
   ]
  },
  {
   "cell_type": "markdown",
   "metadata": {},
   "source": [
    "## main function"
   ]
  },
  {
   "cell_type": "markdown",
   "metadata": {},
   "source": [
    "dealing_data 把传入的数据根据产品类型做数据截取，截取后的数据为在某个指定时间段内，每个产品类的所有产品在这个时间段内的销售数据\n",
    "然后再统计该时间段内每个类产品的销售总量，并排序"
   ]
  },
  {
   "cell_type": "code",
   "execution_count": 6,
   "metadata": {
    "collapsed": true
   },
   "outputs": [],
   "source": [
    "def dealing_data(data, start_time, end_time):\n",
    "    product_ty = set(data['product_type']) \n",
    "    result_df = pd.DataFrame()\n",
    "    \n",
    "    for item in product_ty:\n",
    "        tmp_data = data[data['product_type'] == item]\n",
    "        slice_data = slicing_data(tmp_data, start_time, end_time)\n",
    "        columns_name = ['product_name', 'product_type']\n",
    "        \n",
    "        tmp_data = tmp_data.loc[:, columns_name]\n",
    "        tmp_data['statistic'] = np.zeros(np.array(tmp_data).shape[0])\n",
    "        tmp_data['statistic'] = np.sum(slice_data, axis = 1)\n",
    "        \n",
    "        tmp_data = tmp_data.sort_values('statistic', ascending = False)\n",
    "        \n",
    "        tmp_data['rank'] = range(len(tmp_data))\n",
    "        tmp_data['rank'] += 1\n",
    "        \n",
    "        result_df = result_df.append(tmp_data)\n",
    "    print result_df\n",
    "    return result_df\n",
    "        "
   ]
  },
  {
   "cell_type": "code",
   "execution_count": 7,
   "metadata": {
    "collapsed": true
   },
   "outputs": [],
   "source": [
    "def slicing_data(data, start_time, end_time):\n",
    "    #select_column = [pd.to_datetime(start_time), pd.to_datetime(end_time)]\n",
    "    #print data\n",
    "    #print \"***********\",data[select_column]\n",
    "    return data.loc[:, start_time : end_time]\n",
    "    #return data[select_column]"
   ]
  },
  {
   "cell_type": "markdown",
   "metadata": {},
   "source": [
    "#### 查询函数， 通过输入指定产品名和起止时间参数， 返回该产品在该类中的销售排名"
   ]
  },
  {
   "cell_type": "code",
   "execution_count": 8,
   "metadata": {
    "collapsed": true
   },
   "outputs": [],
   "source": [
    "def query_rank(data, query_product_name, start_time, end_time):\n",
    "    re_data = dealing_data(data, start_time, end_time)\n",
    "    result = re_data[re_data['product_name'] == query_product_name]['rank'].values\n",
    "    \n",
    "    return result[0]"
   ]
  },
  {
   "cell_type": "code",
   "execution_count": 9,
   "metadata": {
    "collapsed": false,
    "scrolled": true
   },
   "outputs": [
    {
     "name": "stdout",
     "output_type": "stream",
     "text": [
      "  product_name product_type  statistic  rank\n",
      "7           x7            a        176     1\n",
      "4           x4            a        150     2\n",
      "8           x8            a        139     3\n",
      "6           x6            a         60     4\n",
      "1           x1            b        188     1\n",
      "5           x5            b        167     2\n",
      "2           x3            b        158     3\n",
      "0           x0            b        105     4\n",
      "3           x2            d        218     1\n",
      "query result , the rank is 4\n"
     ]
    }
   ],
   "source": [
    "#查询 产品名为 x6 在 T1到T4这段时间内在同类产品中的销售排名\n",
    "result_rank = query_rank(test_data, 'x6',  'T1', 'T3')\n",
    "\n",
    "print \"query result , the rank is %d\"%result_rank\n",
    "\n",
    "# 返回总的销售排名表"
   ]
  },
  {
   "cell_type": "markdown",
   "metadata": {},
   "source": [
    "#### another form of datafram"
   ]
  },
  {
   "cell_type": "code",
   "execution_count": 10,
   "metadata": {
    "collapsed": true
   },
   "outputs": [],
   "source": [
    "def dealing_data_b(data, start_time, end_time):\n",
    "    product_ty = set(data['product_type']) \n",
    "    result_df = pd.DataFrame()\n",
    "    \n",
    "    for item in product_ty:\n",
    "        tmp_data = data[data['product_type'] == item]\n",
    "        slice_data = slicing_data_b(tmp_data, start_time, end_time)\n",
    "        columns_name = ['product_name', 'product_type']\n",
    "        \n",
    "        tmp_data = tmp_data.loc[:, columns_name]\n",
    "        tmp_data['statistic'] = np.zeros(np.array(tmp_data).shape[0])\n",
    "        tmp_data['statistic'] = np.sum(slice_data, axis = 1)\n",
    "        \n",
    "        tmp_data = tmp_data.sort_values('statistic', ascending = False)\n",
    "        \n",
    "        tmp_data['rank'] = range(len(tmp_data))\n",
    "        tmp_data['rank'] += 1\n",
    "        \n",
    "        result_df = result_df.append(tmp_data)\n",
    "    print result_df\n",
    "    return result_df"
   ]
  },
  {
   "cell_type": "code",
   "execution_count": 11,
   "metadata": {
    "collapsed": true
   },
   "outputs": [],
   "source": [
    "def slicing_data_b(data, start_time, end_time):\n",
    "    #select_column = [pd.to_datetime(start_time), pd.to_datetime(end_time)]\n",
    "    select_columns = [ it for it in pd.date_range(start_time, end_time)]\n",
    "    #print data\n",
    "    #print \"***********\",data[select_column]\n",
    "    #return data.loc[:, start_time : end_time]\n",
    "    return data[select_columns]"
   ]
  },
  {
   "cell_type": "code",
   "execution_count": 12,
   "metadata": {
    "collapsed": true
   },
   "outputs": [],
   "source": [
    "def query_rank_b(data, query_product_name, start_time, end_time):\n",
    "    re_data = dealing_data_b(data, start_time, end_time)\n",
    "    result = re_data[re_data['product_name'] == query_product_name]['rank'].values\n",
    "    \n",
    "    return result[0]"
   ]
  },
  {
   "cell_type": "code",
   "execution_count": 13,
   "metadata": {
    "collapsed": false
   },
   "outputs": [
    {
     "name": "stdout",
     "output_type": "stream",
     "text": [
      "   2010-01-01  2010-01-02  2010-01-03  2010-01-04  2010-01-05  2010-01-06  \\\n",
      "0          72          62          27          47          97           8   \n",
      "1          80          56          28          69          63          25   \n",
      "2          12          70          73          31          48          19   \n",
      "3          70          12          96          21          90           8   \n",
      "4          84          85          62          38          32           6   \n",
      "5          31          21          65          89          57          98   \n",
      "6          35          68          94          98          63          12   \n",
      "7          78          15           6           5          46          30   \n",
      "8          32          66          11          96          12          87   \n",
      "\n",
      "   2010-01-07  2010-01-08  2010-01-09  \n",
      "0          53          18          27  \n",
      "1          43          59          14  \n",
      "2          53          49          38  \n",
      "3           9          87          73  \n",
      "4          90          49          43  \n",
      "5           1          20          86  \n",
      "6          77           2          65  \n",
      "7          63           7          39  \n",
      "8          30          24          96  \n"
     ]
    }
   ],
   "source": [
    "# construct dataframe\n",
    "sale_value_date = { el: np.random.randint(100, size = [data_rang]) for el in pd.date_range('20100101', '20100109')}\n",
    "sale_value_date_df = pd.DataFrame(sale_value_date)\n",
    "\n",
    "print sale_value_date_df"
   ]
  },
  {
   "cell_type": "code",
   "execution_count": 14,
   "metadata": {
    "collapsed": false
   },
   "outputs": [
    {
     "name": "stdout",
     "output_type": "stream",
     "text": [
      "  product_name product_type\n",
      "0           x0            c\n",
      "1           x1            d\n",
      "2           x2            b\n",
      "3           x3            d\n",
      "4           x4            d\n",
      "5           x5            c\n",
      "6           x6            b\n",
      "7           x7            a\n",
      "8           x8            a\n"
     ]
    }
   ],
   "source": [
    "pr_type = ['a', 'b', 'c', 'd']\n",
    "p_name = [ \"x\" + str(i) for i in range(data_rang) ]\n",
    "p_type = [ np.random.choice(pr_type) for i in range(data_rang) ]\n",
    "\n",
    "product_data = {'product_name': p_name,\n",
    "               'product_type': p_type}\n",
    "\n",
    "product_data_df = pd.DataFrame(product_data, columns = ['product_name', 'product_type'])\n",
    "\n",
    "print product_data_df"
   ]
  },
  {
   "cell_type": "code",
   "execution_count": 15,
   "metadata": {
    "collapsed": false
   },
   "outputs": [
    {
     "name": "stdout",
     "output_type": "stream",
     "text": [
      "   2010-01-01 00:00:00  2010-01-02 00:00:00  2010-01-03 00:00:00  \\\n",
      "0                   72                   62                   27   \n",
      "1                   80                   56                   28   \n",
      "2                   12                   70                   73   \n",
      "3                   70                   12                   96   \n",
      "4                   84                   85                   62   \n",
      "5                   31                   21                   65   \n",
      "6                   35                   68                   94   \n",
      "7                   78                   15                    6   \n",
      "8                   32                   66                   11   \n",
      "\n",
      "   2010-01-04 00:00:00  2010-01-05 00:00:00  2010-01-06 00:00:00  \\\n",
      "0                   47                   97                    8   \n",
      "1                   69                   63                   25   \n",
      "2                   31                   48                   19   \n",
      "3                   21                   90                    8   \n",
      "4                   38                   32                    6   \n",
      "5                   89                   57                   98   \n",
      "6                   98                   63                   12   \n",
      "7                    5                   46                   30   \n",
      "8                   96                   12                   87   \n",
      "\n",
      "   2010-01-07 00:00:00  2010-01-08 00:00:00  2010-01-09 00:00:00 product_name  \\\n",
      "0                   53                   18                   27           x0   \n",
      "1                   43                   59                   14           x1   \n",
      "2                   53                   49                   38           x2   \n",
      "3                    9                   87                   73           x3   \n",
      "4                   90                   49                   43           x4   \n",
      "5                    1                   20                   86           x5   \n",
      "6                   77                    2                   65           x6   \n",
      "7                   63                    7                   39           x7   \n",
      "8                   30                   24                   96           x8   \n",
      "\n",
      "  product_type  \n",
      "0            c  \n",
      "1            d  \n",
      "2            b  \n",
      "3            d  \n",
      "4            d  \n",
      "5            c  \n",
      "6            b  \n",
      "7            a  \n",
      "8            a  \n"
     ]
    }
   ],
   "source": [
    "df = pd.concat([sale_value_date_df, product_data_df], axis = 1)\n",
    "\n",
    "print df"
   ]
  },
  {
   "cell_type": "code",
   "execution_count": 17,
   "metadata": {
    "collapsed": false
   },
   "outputs": [
    {
     "name": "stdout",
     "output_type": "stream",
     "text": [
      "  product_name product_type  statistic  rank\n",
      "8           x8            a        217     1\n",
      "7           x7            a        150     2\n",
      "0           x0            c        305     1\n",
      "5           x5            c        263     2\n",
      "6           x6            b        358     1\n",
      "2           x2            b        234     2\n",
      "4           x4            d        301     1\n",
      "1           x1            d        296     2\n",
      "3           x3            d        289     3\n",
      "query result , the rank is 1\n"
     ]
    }
   ],
   "source": [
    "result_rank_b = query_rank_b(df, 'x4', '2010-01-01', '2010-01-05')\n",
    "print \"query result , the rank is %d\"%result_rank_b"
   ]
  },
  {
   "cell_type": "code",
   "execution_count": null,
   "metadata": {
    "collapsed": true
   },
   "outputs": [],
   "source": []
  }
 ],
 "metadata": {
  "kernelspec": {
   "display_name": "Python 2",
   "language": "python",
   "name": "python2"
  },
  "language_info": {
   "codemirror_mode": {
    "name": "ipython",
    "version": 2
   },
   "file_extension": ".py",
   "mimetype": "text/x-python",
   "name": "python",
   "nbconvert_exporter": "python",
   "pygments_lexer": "ipython2",
   "version": "2.7.13"
  }
 },
 "nbformat": 4,
 "nbformat_minor": 2
}
