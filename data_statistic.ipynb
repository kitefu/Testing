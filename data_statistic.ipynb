{
 "cells": [
  {
   "cell_type": "code",
   "execution_count": 1,
   "metadata": {
    "collapsed": true
   },
   "outputs": [],
   "source": [
    "import numpy as np\n",
    "import pandas as pd"
   ]
  },
  {
   "cell_type": "markdown",
   "metadata": {},
   "source": [
    "## construct a test dataframe"
   ]
  },
  {
   "cell_type": "markdown",
   "metadata": {},
   "source": [
    "这里构造一个测试数据， T1~T7的列代表某个时间下的产品销售量\n",
    "product_type列代表产品所属的类型，预设4个类型；\n",
    "product_name代表产品名"
   ]
  },
  {
   "cell_type": "code",
   "execution_count": 2,
   "metadata": {
    "collapsed": false
   },
   "outputs": [],
   "source": [
    "data_rang = 9\n",
    "pr_type = ['a', 'b', 'c', 'd']\n",
    "p_type = [ np.random.choice(pr_type) for i in range(data_rang) ]\n",
    "data = {'product_name' : ['x0', 'x1', 'x3', 'x2', 'x4', 'x5', 'x6', 'x7', 'x8'],\n",
    "       'T1': np.random.randint(100, size = [data_rang]),\n",
    "       'T2': np.random.randint(100, size = [data_rang]),\n",
    "       'T3': np.random.randint(100, size = [data_rang]),\n",
    "       'T4': np.random.randint(100, size = [data_rang]),\n",
    "       'T5': np.random.randint(100, size = [data_rang]),\n",
    "       'T6': np.random.randint(100, size = [data_rang]),\n",
    "       'T7': np.random.randint(100, size = [data_rang]),\n",
    "       'product_type': p_type}\n",
    "\n",
    "test_data = pd.DataFrame(data, columns = ['product_name', 'T1', 'T2', 'T3', 'T4', 'T5', 'T6', 'T7', 'product_type'])"
   ]
  },
  {
   "cell_type": "code",
   "execution_count": 3,
   "metadata": {
    "collapsed": false
   },
   "outputs": [
    {
     "name": "stdout",
     "output_type": "stream",
     "text": [
      "  product_name  T1  T2  T3  T4  T5  T6  T7 product_type\n",
      "0           x0  69  67  35  15  16  34  27            a\n",
      "1           x1  69  41  20   0  69  76  97            a\n",
      "2           x3  97  44  28  69  15   6  24            a\n",
      "3           x2  39  43   7  61  87  91  89            b\n",
      "4           x4  80  13   7  94  56  45  45            d\n",
      "5           x5  34  30  37  89  14  72  46            c\n",
      "6           x6  31  63  88  97  89  67  67            c\n",
      "7           x7  97  54  47  82  41  40  43            b\n",
      "8           x8  47  26   6  89  50  63  57            c\n"
     ]
    }
   ],
   "source": [
    "print test_data"
   ]
  },
  {
   "cell_type": "markdown",
   "metadata": {},
   "source": [
    "## main function"
   ]
  },
  {
   "cell_type": "markdown",
   "metadata": {},
   "source": [
    "dealing_data 把传入的数据根据产品类型做数据截取，截取后的数据为在某个指定时间段内，每个产品类的所有产品在这个时间段内的销售数据\n",
    "然后再统计该时间段内每个类产品的销售总量，并排序"
   ]
  },
  {
   "cell_type": "code",
   "execution_count": 4,
   "metadata": {
    "collapsed": true
   },
   "outputs": [],
   "source": [
    "def dealing_data(data, start_time, end_time):\n",
    "    product_ty = set(data['product_type']) \n",
    "    result_df = pd.DataFrame()\n",
    "    \n",
    "    for item in product_ty:\n",
    "        tmp_data = data[data['product_type'] == item]\n",
    "        slice_data = slicing_data(tmp_data, start_time, end_time)\n",
    "        columns_name = ['product_name', 'product_type']\n",
    "        \n",
    "        tmp_data = tmp_data.loc[:, columns_name]\n",
    "        tmp_data['statistic'] = np.zeros(np.array(tmp_data).shape[0])\n",
    "        tmp_data['statistic'] = np.sum(slice_data, axis = 1)\n",
    "        \n",
    "        tmp_data = tmp_data.sort_values('statistic', ascending = False)\n",
    "        \n",
    "        tmp_data['rank'] = range(len(tmp_data))\n",
    "        tmp_data['rank'] += 1\n",
    "        \n",
    "        result_df = result_df.append(tmp_data)\n",
    "    print result_df\n",
    "    return result_df\n",
    "        "
   ]
  },
  {
   "cell_type": "code",
   "execution_count": 5,
   "metadata": {
    "collapsed": true
   },
   "outputs": [],
   "source": [
    "def slicing_data(data, start_time, end_time):\n",
    "    #select_column = [pd.to_datetime(start_time), pd.to_datetime(end_time)]\n",
    "    #print data\n",
    "    #print \"***********\",data[select_column]\n",
    "    return data.loc[:, start_time : end_time]\n",
    "    #return data[select_column]"
   ]
  },
  {
   "cell_type": "markdown",
   "metadata": {},
   "source": [
    "#### 查询函数， 通过输入指定产品名和起止时间参数， 返回该产品在该类中的销售排名"
   ]
  },
  {
   "cell_type": "code",
   "execution_count": 6,
   "metadata": {
    "collapsed": true
   },
   "outputs": [],
   "source": [
    "def query_rank(data, query_product_name, start_time, end_time):\n",
    "    re_data = dealing_data(data, start_time, end_time)\n",
    "    result = re_data[re_data['product_name'] == query_product_name]['rank'].values\n",
    "    \n",
    "    return result[0]"
   ]
  },
  {
   "cell_type": "code",
   "execution_count": 7,
   "metadata": {
    "collapsed": false,
    "scrolled": true
   },
   "outputs": [
    {
     "name": "stdout",
     "output_type": "stream",
     "text": [
      "  product_name product_type  statistic  rank\n",
      "0           x0            a        171     1\n",
      "2           x3            a        169     2\n",
      "1           x1            a        130     3\n",
      "6           x6            c        182     1\n",
      "5           x5            c        101     2\n",
      "8           x8            c         79     3\n",
      "7           x7            b        198     1\n",
      "3           x2            b         89     2\n",
      "4           x4            d        100     1\n",
      "query result , the rank is 1\n"
     ]
    }
   ],
   "source": [
    "#查询 产品名为 x6 在 T1到T4这段时间内在同类产品中的销售排名\n",
    "result_rank = query_rank(test_data, 'x6',  'T1', 'T3')\n",
    "\n",
    "print \"query result , the rank is %d\"%result_rank\n",
    "\n",
    "# 返回总的销售排名表"
   ]
  },
  {
   "cell_type": "markdown",
   "metadata": {},
   "source": [
    "#### another form of datafram"
   ]
  },
  {
   "cell_type": "code",
   "execution_count": 8,
   "metadata": {
    "collapsed": true
   },
   "outputs": [],
   "source": [
    "def dealing_data_b(data, start_time, end_time):\n",
    "    product_ty = set(data['product_type']) \n",
    "    result_df = pd.DataFrame()\n",
    "    \n",
    "    for item in product_ty:\n",
    "        tmp_data = data[data['product_type'] == item]\n",
    "        slice_data = slicing_data_b(tmp_data, start_time, end_time)\n",
    "        columns_name = ['product_name', 'product_type']\n",
    "        \n",
    "        tmp_data = tmp_data.loc[:, columns_name]\n",
    "        tmp_data['statistic'] = np.zeros(np.array(tmp_data).shape[0])\n",
    "        tmp_data['statistic'] = np.sum(slice_data, axis = 1)\n",
    "        \n",
    "        tmp_data = tmp_data.sort_values('statistic', ascending = False)\n",
    "        \n",
    "        tmp_data['rank'] = range(len(tmp_data))\n",
    "        tmp_data['rank'] += 1\n",
    "        \n",
    "        result_df = result_df.append(tmp_data)\n",
    "    print result_df\n",
    "    return result_df"
   ]
  },
  {
   "cell_type": "code",
   "execution_count": 9,
   "metadata": {
    "collapsed": true
   },
   "outputs": [],
   "source": [
    "def slicing_data_b(data, start_time, end_time):\n",
    "    #select_columns = [pd.to_datetime(start_time), pd.to_datetime(end_time)]\n",
    "    select_columns = [ it for it in pd.date_range(start_time, end_time)]\n",
    "    #print data\n",
    "    #print \"***********\",data[select_column]\n",
    "    #return data.loc[:, start_time : end_time]\n",
    "    return data[select_columns]"
   ]
  },
  {
   "cell_type": "code",
   "execution_count": 10,
   "metadata": {
    "collapsed": true
   },
   "outputs": [],
   "source": [
    "def query_rank_b(data, query_product_name, start_time, end_time):\n",
    "    re_data = dealing_data_b(data, start_time, end_time)\n",
    "    result = re_data[re_data['product_name'] == query_product_name]['rank'].values\n",
    "    \n",
    "    return result[0]"
   ]
  },
  {
   "cell_type": "code",
   "execution_count": 11,
   "metadata": {
    "collapsed": false
   },
   "outputs": [
    {
     "name": "stdout",
     "output_type": "stream",
     "text": [
      "   2010-01-01  2010-01-02  2010-01-03  2010-01-04  2010-01-05  2010-01-06  \\\n",
      "0          95           6          39          95          44          82   \n",
      "1          50          70          39          46          18          98   \n",
      "2          13          92           6          42          31          36   \n",
      "3          65          79          12          22          69          61   \n",
      "4          73          53           8           6          24          49   \n",
      "5           3          58          27          91          95          14   \n",
      "6          11          91          67          15          87           9   \n",
      "7          12          24          57          91          86          80   \n",
      "8          96          44          68          37          88          56   \n",
      "\n",
      "   2010-01-07  2010-01-08  2010-01-09  \n",
      "0          97           2          12  \n",
      "1          49          97          59  \n",
      "2          94          65          73  \n",
      "3          33          22          81  \n",
      "4          82          23          89  \n",
      "5          92          13          37  \n",
      "6          69          60          13  \n",
      "7          30          34          28  \n",
      "8          23          53          10  \n"
     ]
    }
   ],
   "source": [
    "# construct dataframe\n",
    "sale_value_date = { el: np.random.randint(100, size = [data_rang]) for el in pd.date_range('20100101', '20100109')}\n",
    "sale_value_date_df = pd.DataFrame(sale_value_date)\n",
    "\n",
    "print sale_value_date_df"
   ]
  },
  {
   "cell_type": "code",
   "execution_count": 12,
   "metadata": {
    "collapsed": false
   },
   "outputs": [
    {
     "name": "stdout",
     "output_type": "stream",
     "text": [
      "  product_name product_type\n",
      "0           x0            c\n",
      "1           x1            b\n",
      "2           x2            c\n",
      "3           x3            d\n",
      "4           x4            b\n",
      "5           x5            c\n",
      "6           x6            a\n",
      "7           x7            d\n",
      "8           x8            a\n"
     ]
    }
   ],
   "source": [
    "pr_type = ['a', 'b', 'c', 'd']\n",
    "p_name = [ \"x\" + str(i) for i in range(data_rang) ]\n",
    "p_type = [ np.random.choice(pr_type) for i in range(data_rang) ]\n",
    "\n",
    "product_data = {'product_name': p_name,\n",
    "               'product_type': p_type}\n",
    "\n",
    "product_data_df = pd.DataFrame(product_data, columns = ['product_name', 'product_type'])\n",
    "\n",
    "print product_data_df"
   ]
  },
  {
   "cell_type": "code",
   "execution_count": 13,
   "metadata": {
    "collapsed": false
   },
   "outputs": [
    {
     "name": "stdout",
     "output_type": "stream",
     "text": [
      "   2010-01-01 00:00:00  2010-01-02 00:00:00  2010-01-03 00:00:00  \\\n",
      "0                   95                    6                   39   \n",
      "1                   50                   70                   39   \n",
      "2                   13                   92                    6   \n",
      "3                   65                   79                   12   \n",
      "4                   73                   53                    8   \n",
      "5                    3                   58                   27   \n",
      "6                   11                   91                   67   \n",
      "7                   12                   24                   57   \n",
      "8                   96                   44                   68   \n",
      "\n",
      "   2010-01-04 00:00:00  2010-01-05 00:00:00  2010-01-06 00:00:00  \\\n",
      "0                   95                   44                   82   \n",
      "1                   46                   18                   98   \n",
      "2                   42                   31                   36   \n",
      "3                   22                   69                   61   \n",
      "4                    6                   24                   49   \n",
      "5                   91                   95                   14   \n",
      "6                   15                   87                    9   \n",
      "7                   91                   86                   80   \n",
      "8                   37                   88                   56   \n",
      "\n",
      "   2010-01-07 00:00:00  2010-01-08 00:00:00  2010-01-09 00:00:00 product_name  \\\n",
      "0                   97                    2                   12           x0   \n",
      "1                   49                   97                   59           x1   \n",
      "2                   94                   65                   73           x2   \n",
      "3                   33                   22                   81           x3   \n",
      "4                   82                   23                   89           x4   \n",
      "5                   92                   13                   37           x5   \n",
      "6                   69                   60                   13           x6   \n",
      "7                   30                   34                   28           x7   \n",
      "8                   23                   53                   10           x8   \n",
      "\n",
      "  product_type  \n",
      "0            c  \n",
      "1            b  \n",
      "2            c  \n",
      "3            d  \n",
      "4            b  \n",
      "5            c  \n",
      "6            a  \n",
      "7            d  \n",
      "8            a  \n"
     ]
    }
   ],
   "source": [
    "df = pd.concat([sale_value_date_df, product_data_df], axis = 1)\n",
    "\n",
    "print df"
   ]
  },
  {
   "cell_type": "code",
   "execution_count": 14,
   "metadata": {
    "collapsed": false
   },
   "outputs": [
    {
     "name": "stdout",
     "output_type": "stream",
     "text": [
      "  product_name product_type  statistic  rank\n",
      "8           x8            a        208     1\n",
      "6           x6            a        169     2\n",
      "0           x0            c        140     1\n",
      "2           x2            c        111     2\n",
      "5           x5            c         88     3\n",
      "1           x1            b        159     1\n",
      "4           x4            b        134     2\n",
      "3           x3            d        156     1\n",
      "7           x7            d         93     2\n",
      "query result , the rank is 2\n"
     ]
    }
   ],
   "source": [
    "result_rank_b = query_rank_b(df, 'x6', '2010-01-01', '2010-01-03')\n",
    "print \"query result , the rank is %d\"%result_rank_b"
   ]
  },
  {
   "cell_type": "code",
   "execution_count": 15,
   "metadata": {
    "collapsed": false
   },
   "outputs": [
    {
     "name": "stdout",
     "output_type": "stream",
     "text": [
      "  product_name product_type  statistic  rank\n",
      "8           x8            a        333     1\n",
      "6           x6            a        271     2\n",
      "0           x0            c        279     1\n",
      "5           x5            c        274     2\n",
      "2           x2            c        184     3\n",
      "1           x1            b        223     1\n",
      "4           x4            b        164     2\n",
      "7           x7            d        270     1\n",
      "3           x3            d        247     2\n",
      "query result , the rank is 2\n"
     ]
    }
   ],
   "source": [
    "result_rank_b = query_rank_b(df, 'x6', '2010-01-01', '2010-01-05')\n",
    "print \"query result , the rank is %d\"%result_rank_b"
   ]
  }
 ],
 "metadata": {
  "kernelspec": {
   "display_name": "Python 2",
   "language": "python",
   "name": "python2"
  },
  "language_info": {
   "codemirror_mode": {
    "name": "ipython",
    "version": 2
   },
   "file_extension": ".py",
   "mimetype": "text/x-python",
   "name": "python",
   "nbconvert_exporter": "python",
   "pygments_lexer": "ipython2",
   "version": "2.7.13"
  }
 },
 "nbformat": 4,
 "nbformat_minor": 2
}
