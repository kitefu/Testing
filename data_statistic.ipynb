{
 "cells": [
  {
   "cell_type": "code",
   "execution_count": 1,
   "metadata": {
    "collapsed": true
   },
   "outputs": [],
   "source": [
    "import numpy as np\n",
    "import pandas as pd"
   ]
  },
  {
   "cell_type": "markdown",
   "metadata": {},
   "source": [
    "## construct a test dataframe"
   ]
  },
  {
   "cell_type": "markdown",
   "metadata": {},
   "source": [
    "这里构造一个测试数据， T1~T7的列代表某个时间下的产品销售量\n",
    "product_type列代表产品所属的类型，预设4个类型；\n",
    "product_name代表产品名"
   ]
  },
  {
   "cell_type": "code",
   "execution_count": 25,
   "metadata": {
    "collapsed": false
   },
   "outputs": [],
   "source": [
    "data_rang = 9\n",
    "pr_type = ['a', 'b', 'c', 'd']\n",
    "data = {'product_name' : ['x0', 'x1', 'x3', 'x2', 'x4', 'x5', 'x6', 'x7', 'x8'],\n",
    "       'T1': np.random.randint(100, size = [data_rang]),\n",
    "       'T2': np.random.randint(100, size = [data_rang]),\n",
    "       'T3': np.random.randint(100, size = [data_rang]),\n",
    "       'T4': np.random.randint(100, size = [data_rang]),\n",
    "       'T5': np.random.randint(100, size = [data_rang]),\n",
    "       'T6': np.random.randint(100, size = [data_rang]),\n",
    "       'T7': np.random.randint(100, size = [data_rang]),\n",
    "       'product_type': p_type}\n",
    "\n",
    "test_data = pd.DataFrame(data, columns = ['product_name', 'T1', 'T2', 'T3', 'T4', 'T5', 'T6', 'T7', 'product_type'])"
   ]
  },
  {
   "cell_type": "code",
   "execution_count": 26,
   "metadata": {
    "collapsed": false
   },
   "outputs": [
    {
     "name": "stdout",
     "output_type": "stream",
     "text": [
      "  product_name  T1  T2  T3  T4  T5  T6  T7 product_type\n",
      "0           x0  73  27  45  57  69  78  92            d\n",
      "1           x1  16   3  40  82  84   2  24            c\n",
      "2           x3   1  83  20  61  99  33  99            c\n",
      "3           x2   7  79  42  52  90  99  18            a\n",
      "4           x4  88  74  98  52  49  18  14            a\n",
      "5           x5  52  57  44  47  46   4  42            c\n",
      "6           x6  79  72  25  51  15  83  77            a\n",
      "7           x7  60  64  10  73  63  91  90            c\n",
      "8           x8  79  62  30  60  63  35  55            c\n"
     ]
    }
   ],
   "source": [
    "print test_data"
   ]
  },
  {
   "cell_type": "markdown",
   "metadata": {},
   "source": [
    "## main function"
   ]
  },
  {
   "cell_type": "markdown",
   "metadata": {},
   "source": [
    "dealing_data 把传入的数据根据产品类型做数据截取，截取后的数据为在某个指定时间段内，每个产品类的所有产品在这个时间段内的销售数据\n",
    "然后再统计该时间段内每个类产品的销售总量，并排序"
   ]
  },
  {
   "cell_type": "code",
   "execution_count": 51,
   "metadata": {
    "collapsed": true
   },
   "outputs": [],
   "source": [
    "def dealing_data(data, start_time, end_time):\n",
    "    product_ty = set(data['product_type']) \n",
    "    result_df = pd.DataFrame()\n",
    "    \n",
    "    for item in product_ty:\n",
    "        tmp_data = data[data['product_type'] == item]\n",
    "        slice_data = slicing_data(tmp_data, start_time, end_time)\n",
    "        columns_name = ['product_name', 'product_type']\n",
    "        \n",
    "        tmp_data = tmp_data.loc[:, columns_name]\n",
    "        tmp_data['statistic'] = np.zeros(np.array(tmp_data).shape[0])\n",
    "        tmp_data['statistic'] = np.sum(slice_data, axis = 1)\n",
    "        \n",
    "        tmp_data = tmp_data.sort_values('statistic', ascending = False)\n",
    "        \n",
    "        tmp_data['rank'] = range(len(tmp_data))\n",
    "        tmp_data['rank'] += 1\n",
    "        \n",
    "        result_df = result_df.append(tmp_data)\n",
    "    print result_df\n",
    "    return result_df\n",
    "        "
   ]
  },
  {
   "cell_type": "code",
   "execution_count": 52,
   "metadata": {
    "collapsed": true
   },
   "outputs": [],
   "source": [
    "def slicing_data(data, start_time, end_time):\n",
    "    #select_column = [pd.to_datetime(start_time), pd.to_datetime(end_time)]\n",
    "    #print data\n",
    "    #print \"***********\",data[select_column]\n",
    "    return data.loc[:, start_time : end_time]\n",
    "    #return data[select_column]"
   ]
  },
  {
   "cell_type": "markdown",
   "metadata": {},
   "source": [
    "#### 查询函数， 通过输入指定产品名和起止时间参数， 返回该产品在该类中的销售排名"
   ]
  },
  {
   "cell_type": "code",
   "execution_count": 53,
   "metadata": {
    "collapsed": true
   },
   "outputs": [],
   "source": [
    "def query_rank(data, query_product_name, start_time, end_time):\n",
    "    re_data = dealing_data(data, start_time, end_time)\n",
    "    result = re_data[re_data['product_name'] == query_product_name]['rank'].values\n",
    "    \n",
    "    return result[0]"
   ]
  },
  {
   "cell_type": "code",
   "execution_count": 54,
   "metadata": {
    "collapsed": false,
    "scrolled": true
   },
   "outputs": [
    {
     "name": "stdout",
     "output_type": "stream",
     "text": [
      "  product_name product_type  statistic  rank\n",
      "4           x4            a        260     1\n",
      "6           x6            a        176     2\n",
      "3           x2            a        128     3\n",
      "8           x8            c        171     1\n",
      "5           x5            c        153     2\n",
      "7           x7            c        134     3\n",
      "2           x3            c        104     4\n",
      "1           x1            c         59     5\n",
      "0           x0            d        145     1\n",
      "query result , the rank is 2\n"
     ]
    }
   ],
   "source": [
    "#查询 产品名为 x6 在 T1到T4这段时间内在同类产品中的销售排名\n",
    "result_rank = query_rank(test_data, 'x6',  'T1', 'T3')\n",
    "\n",
    "print \"query result , the rank is %d\"%result_rank\n",
    "\n",
    "# 返回总的销售排名表"
   ]
  },
  {
   "cell_type": "markdown",
   "metadata": {},
   "source": [
    "#### another form of datafram"
   ]
  },
  {
   "cell_type": "code",
   "execution_count": 56,
   "metadata": {
    "collapsed": true
   },
   "outputs": [],
   "source": [
    "def dealing_data_b(data, start_time, end_time):\n",
    "    product_ty = set(data['product_type']) \n",
    "    result_df = pd.DataFrame()\n",
    "    \n",
    "    for item in product_ty:\n",
    "        tmp_data = data[data['product_type'] == item]\n",
    "        slice_data = slicing_data_b(tmp_data, start_time, end_time)\n",
    "        columns_name = ['product_name', 'product_type']\n",
    "        \n",
    "        tmp_data = tmp_data.loc[:, columns_name]\n",
    "        tmp_data['statistic'] = np.zeros(np.array(tmp_data).shape[0])\n",
    "        tmp_data['statistic'] = np.sum(slice_data, axis = 1)\n",
    "        \n",
    "        tmp_data = tmp_data.sort_values('statistic', ascending = False)\n",
    "        \n",
    "        tmp_data['rank'] = range(len(tmp_data))\n",
    "        tmp_data['rank'] += 1\n",
    "        \n",
    "        result_df = result_df.append(tmp_data)\n",
    "    print result_df\n",
    "    return result_df"
   ]
  },
  {
   "cell_type": "code",
   "execution_count": 57,
   "metadata": {
    "collapsed": true
   },
   "outputs": [],
   "source": [
    "def slicing_data_b(data, start_time, end_time):\n",
    "    select_column = [pd.to_datetime(start_time), pd.to_datetime(end_time)]\n",
    "    #print data\n",
    "    #print \"***********\",data[select_column]\n",
    "    #return data.loc[:, start_time : end_time]\n",
    "    return data[select_column]"
   ]
  },
  {
   "cell_type": "code",
   "execution_count": 58,
   "metadata": {
    "collapsed": true
   },
   "outputs": [],
   "source": [
    "def query_rank_b(data, query_product_name, start_time, end_time):\n",
    "    re_data = dealing_data_b(data, start_time, end_time)\n",
    "    result = re_data[re_data['product_name'] == query_product_name]['rank'].values\n",
    "    \n",
    "    return result[0]"
   ]
  },
  {
   "cell_type": "code",
   "execution_count": 59,
   "metadata": {
    "collapsed": false
   },
   "outputs": [
    {
     "name": "stdout",
     "output_type": "stream",
     "text": [
      "   2010-01-01  2010-01-02  2010-01-03  2010-01-04  2010-01-05  2010-01-06  \\\n",
      "0          37          86          27          87          24          73   \n",
      "1          73           3          82          70          27          29   \n",
      "2          52          55          57          84          21          83   \n",
      "3          81          20          52           1          19          80   \n",
      "4          86          92          73          58          43          89   \n",
      "5          46          24          86          23          57          10   \n",
      "6          12          62          91          14          72          98   \n",
      "7          28          10          76          50           4           4   \n",
      "8          65          99          41          67          72          33   \n",
      "\n",
      "   2010-01-07  2010-01-08  2010-01-09  \n",
      "0          53          98           9  \n",
      "1          65          38          58  \n",
      "2          73          19          21  \n",
      "3           1          95          80  \n",
      "4           9          78          55  \n",
      "5           8          16           8  \n",
      "6          69          27          57  \n",
      "7          30          41          72  \n",
      "8          35           9          59  \n"
     ]
    }
   ],
   "source": [
    "# construct dataframe\n",
    "sale_value_date = { el: np.random.randint(100, size = [data_rang]) for el in pd.date_range('20100101', '20100109')}\n",
    "sale_value_date_df = pd.DataFrame(sale_value_date)\n",
    "\n",
    "print sale_value_date_df"
   ]
  },
  {
   "cell_type": "code",
   "execution_count": 60,
   "metadata": {
    "collapsed": false
   },
   "outputs": [
    {
     "name": "stdout",
     "output_type": "stream",
     "text": [
      "  product_name product_type\n",
      "0           x0            c\n",
      "1           x1            a\n",
      "2           x2            d\n",
      "3           x3            a\n",
      "4           x4            d\n",
      "5           x5            d\n",
      "6           x6            c\n",
      "7           x7            d\n",
      "8           x8            d\n"
     ]
    }
   ],
   "source": [
    "pr_type = ['a', 'b', 'c', 'd']\n",
    "p_name = [ \"x\" + str(i) for i in range(data_rang) ]\n",
    "p_type = [ np.random.choice(pr_type) for i in range(data_rang) ]\n",
    "\n",
    "product_data = {'product_name': p_name,\n",
    "               'product_type': p_type}\n",
    "\n",
    "product_data_df = pd.DataFrame(product_data, columns = ['product_name', 'product_type'])\n",
    "\n",
    "print product_data_df"
   ]
  },
  {
   "cell_type": "code",
   "execution_count": 61,
   "metadata": {
    "collapsed": false
   },
   "outputs": [
    {
     "name": "stdout",
     "output_type": "stream",
     "text": [
      "   2010-01-01 00:00:00  2010-01-02 00:00:00  2010-01-03 00:00:00  \\\n",
      "0                   37                   86                   27   \n",
      "1                   73                    3                   82   \n",
      "2                   52                   55                   57   \n",
      "3                   81                   20                   52   \n",
      "4                   86                   92                   73   \n",
      "5                   46                   24                   86   \n",
      "6                   12                   62                   91   \n",
      "7                   28                   10                   76   \n",
      "8                   65                   99                   41   \n",
      "\n",
      "   2010-01-04 00:00:00  2010-01-05 00:00:00  2010-01-06 00:00:00  \\\n",
      "0                   87                   24                   73   \n",
      "1                   70                   27                   29   \n",
      "2                   84                   21                   83   \n",
      "3                    1                   19                   80   \n",
      "4                   58                   43                   89   \n",
      "5                   23                   57                   10   \n",
      "6                   14                   72                   98   \n",
      "7                   50                    4                    4   \n",
      "8                   67                   72                   33   \n",
      "\n",
      "   2010-01-07 00:00:00  2010-01-08 00:00:00  2010-01-09 00:00:00 product_name  \\\n",
      "0                   53                   98                    9           x0   \n",
      "1                   65                   38                   58           x1   \n",
      "2                   73                   19                   21           x2   \n",
      "3                    1                   95                   80           x3   \n",
      "4                    9                   78                   55           x4   \n",
      "5                    8                   16                    8           x5   \n",
      "6                   69                   27                   57           x6   \n",
      "7                   30                   41                   72           x7   \n",
      "8                   35                    9                   59           x8   \n",
      "\n",
      "  product_type  \n",
      "0            c  \n",
      "1            a  \n",
      "2            d  \n",
      "3            a  \n",
      "4            d  \n",
      "5            d  \n",
      "6            c  \n",
      "7            d  \n",
      "8            d  \n"
     ]
    }
   ],
   "source": [
    "df = pd.concat([sale_value_date_df, product_data_df], axis = 1)\n",
    "\n",
    "print df"
   ]
  },
  {
   "cell_type": "code",
   "execution_count": 64,
   "metadata": {
    "collapsed": false
   },
   "outputs": [
    {
     "name": "stdout",
     "output_type": "stream",
     "text": [
      "  product_name product_type  statistic  rank\n",
      "1           x1            a        155     1\n",
      "3           x3            a        133     2\n",
      "6           x6            c        103     1\n",
      "0           x0            c         64     2\n",
      "4           x4            d        159     1\n",
      "5           x5            d        132     2\n",
      "2           x2            d        109     3\n",
      "8           x8            d        106     4\n",
      "7           x7            d        104     5\n",
      "query result , the rank is 1\n"
     ]
    }
   ],
   "source": [
    "result_rank_b = query_rank_b(df, 'x6', '2010-01-01', '2010-01-03')\n",
    "print \"query result , the rank is %d\"%result_rank_b"
   ]
  },
  {
   "cell_type": "code",
   "execution_count": null,
   "metadata": {
    "collapsed": true
   },
   "outputs": [],
   "source": []
  }
 ],
 "metadata": {
  "kernelspec": {
   "display_name": "Python 2",
   "language": "python",
   "name": "python2"
  },
  "language_info": {
   "codemirror_mode": {
    "name": "ipython",
    "version": 2
   },
   "file_extension": ".py",
   "mimetype": "text/x-python",
   "name": "python",
   "nbconvert_exporter": "python",
   "pygments_lexer": "ipython2",
   "version": "2.7.13"
  }
 },
 "nbformat": 4,
 "nbformat_minor": 2
}
